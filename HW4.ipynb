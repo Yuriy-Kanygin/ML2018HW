{
 "cells": [
  {
   "cell_type": "markdown",
   "metadata": {},
   "source": [
    "Огромная благодарнасть выражается автору кода с сайта https://python-scripts.com/build-neural-network, чей код помог разобраться в основах работы с нейронными сетями и сделать 4 домашнее задание."
   ]
  },
  {
   "cell_type": "code",
   "execution_count": 144,
   "metadata": {},
   "outputs": [],
   "source": [
    "import torch\n",
    "import torch.nn as nn\n",
    "import torchvision.datasets as dsets\n",
    "import torchvision.transforms as transforms\n",
    "from torch.autograd import Variable\n",
    "from IPython.display import clear_output\n",
    "import matplotlib.pyplot as plt\n",
    "from numpy import random\n",
    "import numpy as np"
   ]
  },
  {
   "cell_type": "markdown",
   "metadata": {},
   "source": [
    "## Инициализация Гипер-параметров\n",
    "Гипер-параметры – это мощные аргументы с предварительной настройкой и не будут обновляться в ходе изучения нейронной сети."
   ]
  },
  {
   "cell_type": "code",
   "execution_count": 48,
   "metadata": {},
   "outputs": [],
   "source": [
    "input_size = 784       # Размеры изображения = 28 x 28 = 784\n",
    "hidden_size = 10        # Количество узлов на скрытом слое\n",
    "num_classes = 10       # Число классов на выходе. В этом случае от 0 до 9\n",
    "num_epochs = 5         # Количество тренировок всего набора данных\n",
    "batch_size = 100       # Размер входных данных для одной итерации\n",
    "learning_rate = 0.001  # Скорость конвергенции"
   ]
  },
  {
   "cell_type": "markdown",
   "metadata": {},
   "source": [
    "## Загрузка набора данных MNIST\n",
    "MNIST – это огромная база данных с тоннами прописанных чисел (т.е. от 0 до 9), которая направлена на обработку изображений."
   ]
  },
  {
   "cell_type": "code",
   "execution_count": 332,
   "metadata": {},
   "outputs": [],
   "source": [
    "def gauss(x):\n",
    "    noize_normal = np.random.normal(0, 10, size = np.array(x).shape)\n",
    "    np_to_image = np.array(x) + np.abs(noize_normal)\n",
    "    np_expand_dims = np.expand_dims(np_to_image, axis=2)\n",
    "    return np.uint8(np_expand_dims)"
   ]
  },
  {
   "cell_type": "code",
   "execution_count": 333,
   "metadata": {},
   "outputs": [],
   "source": [
    "train_dataset = dsets.MNIST(\n",
    "    root='./data',\n",
    "    train=True,\n",
    "    transform=transforms.Compose(\n",
    "        [\n",
    "            transforms.Lambda(lambda x: gauss(x)) ,\n",
    "            transforms.ToPILImage() ,\n",
    "            transforms.ToTensor()\n",
    "        ]),\n",
    "    download=True\n",
    ")\n",
    " \n",
    "test_dataset = dsets.MNIST(\n",
    "    root='./data',\n",
    "    train=False,\n",
    "    transform=transforms.ToTensor()\n",
    ")"
   ]
  },
  {
   "cell_type": "code",
   "execution_count": 336,
   "metadata": {},
   "outputs": [
    {
     "data": {
      "text/plain": [
       "tensor([[0.0157, 0.0157, 0.0471, 0.0196, 0.0667, 0.0353, 0.0078, 0.0392, 0.0235,\n",
       "         0.0039, 0.0510, 0.0510, 0.0471, 0.0157, 0.0039, 0.0196, 0.0039, 0.0314,\n",
       "         0.0275, 0.0588, 0.0353, 0.0353, 0.0275, 0.0235, 0.0667, 0.0941, 0.0392,\n",
       "         0.0353],\n",
       "        [0.0353, 0.0706, 0.0314, 0.0431, 0.0000, 0.0706, 0.0118, 0.0000, 0.0353,\n",
       "         0.0941, 0.0510, 0.0824, 0.0235, 0.0118, 0.0196, 0.0118, 0.0471, 0.0000,\n",
       "         0.0745, 0.0196, 0.0431, 0.0627, 0.0353, 0.0118, 0.0157, 0.0275, 0.0549,\n",
       "         0.0706],\n",
       "        [0.0275, 0.0471, 0.0745, 0.0000, 0.0039, 0.0039, 0.0275, 0.0039, 0.0078,\n",
       "         0.0118, 0.0353, 0.0039, 0.0039, 0.0118, 0.0118, 0.0118, 0.0902, 0.0039,\n",
       "         0.0314, 0.0353, 0.0196, 0.0039, 0.0118, 0.0392, 0.0431, 0.0078, 0.0078,\n",
       "         0.0392],\n",
       "        [0.0275, 0.0039, 0.0314, 0.0118, 0.0471, 0.0078, 0.0627, 0.1176, 0.0078,\n",
       "         0.0392, 0.0471, 0.0039, 0.0275, 0.0118, 0.0000, 0.0000, 0.0118, 0.0510,\n",
       "         0.0431, 0.0157, 0.0118, 0.0314, 0.0078, 0.0000, 0.0275, 0.0196, 0.0353,\n",
       "         0.0392],\n",
       "        [0.0353, 0.0196, 0.0235, 0.0039, 0.0431, 0.0039, 0.0078, 0.0235, 0.0196,\n",
       "         0.0039, 0.0235, 0.2235, 0.4784, 0.8784, 0.6667, 0.4667, 0.4784, 0.0980,\n",
       "         0.0275, 0.0118, 0.0118, 0.0118, 0.0235, 0.0078, 0.0000, 0.0000, 0.0118,\n",
       "         0.0235],\n",
       "        [0.0078, 0.0510, 0.0078, 0.0235, 0.0275, 0.0353, 0.0314, 0.0000, 0.0118,\n",
       "         0.0549, 0.4627, 0.0314, 0.0314, 0.0275, 0.0118, 1.0000, 0.0392, 0.2588,\n",
       "         0.0000, 0.0275, 0.0549, 0.0392, 0.0471, 0.0118, 0.0471, 0.0314, 0.0000,\n",
       "         0.0196],\n",
       "        [0.0118, 0.0706, 0.0431, 0.0118, 0.0039, 0.0392, 0.0235, 0.0196, 0.0078,\n",
       "         0.0314, 0.1294, 0.9686, 0.0235, 0.0549, 0.0039, 0.0078, 0.1098, 0.9765,\n",
       "         0.2980, 0.0000, 0.0039, 0.0000, 0.0510, 0.0863, 0.0471, 0.0510, 0.0078,\n",
       "         0.0235],\n",
       "        [0.0000, 0.0667, 0.0392, 0.0039, 0.0392, 0.0039, 0.0118, 0.1294, 0.0314,\n",
       "         0.0275, 0.0353, 0.5020, 0.9804, 0.0549, 0.9373, 0.0039, 0.0314, 0.0510,\n",
       "         0.6275, 0.0471, 0.0510, 0.0431, 0.0000, 0.0235, 0.0392, 0.0118, 0.0000,\n",
       "         0.0510],\n",
       "        [0.0039, 0.0392, 0.0039, 0.0431, 0.0471, 0.0353, 0.0118, 0.0118, 0.0353,\n",
       "         0.0941, 0.0235, 0.0118, 0.8235, 0.0039, 0.8392, 0.0157, 0.0275, 0.0824,\n",
       "         0.1451, 0.0549, 0.0118, 0.0510, 0.0314, 0.0314, 0.0196, 0.0471, 0.0431,\n",
       "         0.0275],\n",
       "        [0.0118, 0.0039, 0.0000, 0.0118, 0.0235, 0.0039, 0.0196, 0.0196, 0.0745,\n",
       "         0.0039, 0.0000, 0.0157, 0.3490, 0.8235, 0.0314, 0.0471, 0.0275, 0.0157,\n",
       "         0.1882, 0.0196, 0.0235, 0.0196, 0.0314, 0.0078, 0.0863, 0.0431, 0.0039,\n",
       "         0.0078],\n",
       "        [0.0510, 0.0706, 0.0157, 0.0941, 0.0588, 0.0039, 0.0039, 0.0039, 0.0196,\n",
       "         0.0039, 0.0000, 0.0118, 0.0235, 0.1137, 0.8549, 0.0196, 0.0078, 0.9961,\n",
       "         0.7098, 0.0078, 0.0275, 0.0431, 0.0157, 0.0196, 0.0667, 0.0353, 0.0941,\n",
       "         0.0392],\n",
       "        [0.0000, 0.0392, 0.0353, 0.0000, 0.0196, 0.0745, 0.0039, 0.0000, 0.0314,\n",
       "         0.0196, 0.0471, 0.0078, 0.4118, 0.5529, 0.0000, 0.0353, 0.0275, 0.0627,\n",
       "         0.4588, 0.0078, 0.0078, 0.0353, 0.0000, 0.0588, 0.0549, 0.0510, 0.0745,\n",
       "         0.0353],\n",
       "        [0.0196, 0.0039, 0.0078, 0.0431, 0.0392, 0.0235, 0.0471, 0.0000, 0.0078,\n",
       "         0.0902, 0.1647, 0.8588, 1.0000, 1.0000, 0.0078, 0.0118, 0.0431, 0.0157,\n",
       "         0.1333, 0.0157, 0.0235, 0.0157, 0.0275, 0.0667, 0.0078, 0.0353, 0.0039,\n",
       "         0.0431],\n",
       "        [0.0392, 0.0157, 0.0118, 0.0392, 0.0706, 0.0275, 0.0275, 0.0510, 0.0118,\n",
       "         0.0078, 0.3255, 0.9765, 0.0196, 0.0941, 0.0000, 0.0118, 0.0471, 0.0471,\n",
       "         0.6706, 0.0196, 0.0549, 0.0235, 0.0275, 0.0235, 0.0667, 0.0235, 0.0196,\n",
       "         0.0353],\n",
       "        [0.0078, 0.0039, 0.0314, 0.0078, 0.0627, 0.0196, 0.0078, 0.0039, 0.0039,\n",
       "         0.0627, 0.0941, 0.4431, 1.0000, 1.0000, 0.0000, 1.0000, 0.0510, 0.0235,\n",
       "         0.6941, 0.0078, 0.0157, 0.0314, 0.0157, 0.0078, 0.0078, 0.0196, 0.0392,\n",
       "         0.0039],\n",
       "        [0.0588, 0.0392, 0.0353, 0.0078, 0.0510, 0.0235, 0.0314, 0.0000, 0.0392,\n",
       "         0.0392, 0.0353, 0.0353, 0.2863, 0.3686, 0.4000, 0.3882, 0.9412, 0.0000,\n",
       "         0.6824, 0.0431, 0.0078, 0.0235, 0.0039, 0.0196, 0.0588, 0.0275, 0.0431,\n",
       "         0.0549],\n",
       "        [0.0784, 0.0235, 0.0078, 0.0196, 0.0745, 0.0118, 0.0118, 0.0000, 0.0196,\n",
       "         0.0157, 0.0275, 0.0392, 0.0000, 0.0196, 0.0196, 0.0235, 0.5255, 0.0275,\n",
       "         0.8588, 0.1490, 0.0392, 0.0078, 0.1176, 0.0627, 0.0392, 0.0039, 0.0431,\n",
       "         0.0392],\n",
       "        [0.0118, 0.0471, 0.0118, 0.0471, 0.0039, 0.0275, 0.0275, 0.0392, 0.0118,\n",
       "         0.0039, 0.0784, 0.0627, 0.0314, 0.0353, 0.0078, 0.0353, 0.0196, 0.9961,\n",
       "         0.8588, 0.1333, 0.0196, 0.0078, 0.0431, 0.0275, 0.0275, 0.0157, 0.0980,\n",
       "         0.0196],\n",
       "        [0.0588, 0.0275, 0.0157, 0.0196, 0.0118, 0.0196, 0.0627, 0.0196, 0.0118,\n",
       "         0.0784, 0.0275, 0.0275, 0.0431, 0.0863, 0.0549, 0.6667, 0.0157, 0.0431,\n",
       "         0.4588, 0.0039, 0.0275, 0.0392, 0.0157, 0.0078, 0.0000, 0.0275, 0.0588,\n",
       "         0.0588],\n",
       "        [0.0275, 0.0078, 0.0000, 0.0353, 0.0353, 0.0431, 0.1059, 0.7608, 0.4039,\n",
       "         0.0196, 0.0314, 0.0118, 0.0392, 0.0118, 0.1176, 0.9529, 0.1098, 0.0000,\n",
       "         0.1451, 0.0196, 0.0549, 0.0196, 0.0118, 0.0078, 0.0784, 0.0392, 0.0157,\n",
       "         0.0627],\n",
       "        [0.0784, 0.0863, 0.0353, 0.0471, 0.0275, 0.0588, 0.6941, 0.0039, 0.8667,\n",
       "         0.2824, 0.1569, 0.0118, 0.2863, 0.3569, 0.8235, 0.0431, 0.0000, 0.5608,\n",
       "         0.1059, 0.0118, 0.0118, 0.0078, 0.0078, 0.0078, 0.0549, 0.0039, 0.0275,\n",
       "         0.0471],\n",
       "        [0.0039, 0.0078, 0.0078, 0.0196, 0.0118, 0.0510, 0.2745, 0.8039, 0.9961,\n",
       "         0.0157, 0.8784, 0.7059, 0.9961, 0.0353, 0.9961, 0.0039, 0.8667, 0.0549,\n",
       "         0.0431, 0.0000, 0.0353, 0.0157, 0.0039, 0.0196, 0.0039, 0.0784, 0.0549,\n",
       "         0.0627],\n",
       "        [0.0275, 0.0000, 0.0039, 0.0627, 0.0275, 0.0863, 0.0392, 0.5490, 0.4314,\n",
       "         0.0157, 0.0039, 0.0706, 0.0392, 0.0196, 0.0000, 0.9608, 0.0196, 0.0314,\n",
       "         0.0588, 0.0157, 0.0392, 0.0078, 0.0314, 0.0039, 0.0078, 0.0745, 0.0235,\n",
       "         0.0235],\n",
       "        [0.0039, 0.0235, 0.0627, 0.0706, 0.0078, 0.0118, 0.0706, 0.0078, 0.0471,\n",
       "         0.4784, 0.4588, 0.6863, 0.0157, 0.0314, 0.0078, 0.2039, 0.0078, 0.0392,\n",
       "         0.0549, 0.0078, 0.0471, 0.0196, 0.0196, 0.0196, 0.0000, 0.0157, 0.0078,\n",
       "         0.0157],\n",
       "        [0.0000, 0.0000, 0.0118, 0.0235, 0.0275, 0.0157, 0.0118, 0.0431, 0.0118,\n",
       "         0.0353, 0.0863, 0.0353, 0.0118, 0.0039, 0.0118, 0.0078, 0.0431, 0.0588,\n",
       "         0.0314, 0.0745, 0.0902, 0.0078, 0.0157, 0.0902, 0.0000, 0.0196, 0.0078,\n",
       "         0.0706],\n",
       "        [0.0157, 0.0314, 0.0039, 0.0157, 0.0118, 0.0157, 0.0039, 0.0000, 0.0235,\n",
       "         0.0039, 0.0235, 0.0235, 0.0235, 0.0118, 0.0039, 0.0157, 0.0588, 0.1098,\n",
       "         0.0431, 0.0235, 0.0510, 0.0196, 0.0118, 0.0039, 0.0039, 0.0471, 0.0510,\n",
       "         0.0275],\n",
       "        [0.0431, 0.0118, 0.0471, 0.0353, 0.0118, 0.0000, 0.0235, 0.0392, 0.0196,\n",
       "         0.0314, 0.0078, 0.0118, 0.0157, 0.0196, 0.0039, 0.0039, 0.0039, 0.0353,\n",
       "         0.0431, 0.0196, 0.0078, 0.0157, 0.0039, 0.0118, 0.0471, 0.0078, 0.0235,\n",
       "         0.0275],\n",
       "        [0.0078, 0.0314, 0.0039, 0.0039, 0.0235, 0.0000, 0.0353, 0.0235, 0.0000,\n",
       "         0.0118, 0.0627, 0.0667, 0.0039, 0.0157, 0.0353, 0.0118, 0.0902, 0.0314,\n",
       "         0.0000, 0.0471, 0.0039, 0.0039, 0.0000, 0.0039, 0.0275, 0.0588, 0.0431,\n",
       "         0.0235]])"
      ]
     },
     "execution_count": 336,
     "metadata": {},
     "output_type": "execute_result"
    }
   ],
   "source": [
    "train_dataset.__getitem__(10)[0].reshape((28,28))"
   ]
  },
  {
   "cell_type": "code",
   "execution_count": 338,
   "metadata": {},
   "outputs": [
    {
     "data": {
      "text/plain": [
       "<matplotlib.image.AxesImage at 0x14a1d93ada0>"
      ]
     },
     "execution_count": 338,
     "metadata": {},
     "output_type": "execute_result"
    },
    {
     "data": {
      "image/png": "[encoded data removed]",
      "text/plain": [
       "<matplotlib.figure.Figure at 0x14768c9fba8>"
      ]
     },
     "metadata": {},
     "output_type": "display_data"
    }
   ],
   "source": [
    "plt.imshow(train_dataset.__getitem__(100)[0].reshape((28,28)))"
   ]
  },
  {
   "cell_type": "markdown",
   "metadata": {},
   "source": [
    "Загрузка набора данных. После загрузки MNIST, мы загружаем набор данных в наш код:"
   ]
  },
  {
   "cell_type": "code",
   "execution_count": 136,
   "metadata": {},
   "outputs": [],
   "source": [
    "train_loader = torch.utils.data.DataLoader(\n",
    "    dataset=train_dataset,\n",
    "    batch_size=batch_size,\n",
    "    shuffle=True\n",
    ")\n",
    " \n",
    "test_loader = torch.utils.data.DataLoader(\n",
    "    dataset=test_dataset,\n",
    "    batch_size=batch_size,\n",
    "    shuffle=False\n",
    ")"
   ]
  },
  {
   "cell_type": "markdown",
   "metadata": {},
   "source": [
    "## Создаем нейронную сеть Feedforward"
   ]
  },
  {
   "cell_type": "code",
   "execution_count": 137,
   "metadata": {},
   "outputs": [],
   "source": [
    "class Net(nn.Module):\n",
    "    def __init__(self, input_size, hidden_size, num_classes):\n",
    "        super(Net, self).__init__()                    # Наследуемый родительским классом nn.Module\n",
    "        self.fc1 = nn.Linear(input_size, hidden_size)  # 1й связанный слой: 784 (данные входа) -> 500 (скрытый узел)\n",
    "        self.relu = nn.ReLU()                          # Нелинейный слой ReLU max(0,x)\n",
    "        self.fc2 = nn.Linear(hidden_size, num_classes) # 2й связанный слой: 500 (скрытый узел) -> 10 (класс вывода)\n",
    "    \n",
    "    def forward(self, x):                              # Передний пропуск: складывание каждого слоя вместе\n",
    "        out = self.fc1(x)\n",
    "        out = self.relu(out)\n",
    "        out = self.fc2(out)\n",
    "        return out"
   ]
  },
  {
   "cell_type": "markdown",
   "metadata": {},
   "source": [
    "Структура модели нейросети\n",
    "Нейронная сеть включает в себя два полностью соединенных слоя (т.е. fc1 и fc2) и нелинейный слой ReLU между ними. \n",
    "Как правило, мы называем эту структуру 1-скрытый слой нейросети, отбрасывая слой вывода (fc2).\n",
    "https://python-scripts.com/wp-content/uploads/2018/02/Feedforward.png\n",
    "Запустив следующий код, указанные изображения (х) могут пройти через нейронную сеть и сгенерировать вывод (out), показывая, \n",
    "как именно соответствие принадлежит каждому из 10 классов. Например, изображение кошки соответствует изображению собаки на 0.8, \n",
    "в то врем я как соответствие изображению самолета – 0.3."
   ]
  },
  {
   "cell_type": "code",
   "execution_count": 138,
   "metadata": {},
   "outputs": [],
   "source": [
    "net = Net(input_size, hidden_size, num_classes)"
   ]
  },
  {
   "cell_type": "code",
   "execution_count": 139,
   "metadata": {},
   "outputs": [],
   "source": [
    "#net.cuda() # Вы можете прокомментировать (#) эту строку для отключения GPU"
   ]
  },
  {
   "cell_type": "markdown",
   "metadata": {},
   "source": [
    "## Выбираем функцию потерь и оптимизатор"
   ]
  },
  {
   "cell_type": "code",
   "execution_count": 140,
   "metadata": {},
   "outputs": [],
   "source": [
    "criterion = nn.CrossEntropyLoss()\n",
    "optimizer = torch.optim.Adam(net.parameters(), lr=learning_rate)"
   ]
  },
  {
   "cell_type": "markdown",
   "metadata": {},
   "source": [
    "## Тренируем нейросеть"
   ]
  },
  {
   "cell_type": "code",
   "execution_count": 141,
   "metadata": {
    "scrolled": true
   },
   "outputs": [
    {
     "data": {
      "image/png": "[encoded data removed]",
      "text/plain": [
       "<matplotlib.figure.Figure at 0x144a7ef2748>"
      ]
     },
     "metadata": {},
     "output_type": "display_data"
    },
    {
     "name": "stdout",
     "output_type": "stream",
     "text": [
      "Epoch [5/5], Step [600/600], Loss: 0.6614\n"
     ]
    }
   ],
   "source": [
    "history = []\n",
    "for epoch in range(num_epochs):\n",
    "    for i, (images, labels) in enumerate(train_loader):   # Загрузка партии изображений с индексом, данными, классом\n",
    "        images = Variable(images.view(-1, 28*28))         # Конвертация тензора в переменную: изменяем изображение с вектора, размером 784 на матрицу 28 x 28\n",
    "        labels = Variable(labels)\n",
    "        \n",
    "        optimizer.zero_grad()                             # Инициализация скрытых масс до нулей\n",
    "        outputs = net(images)                             # Передний пропуск: определение выходного класса, данного изображения\n",
    "        loss = criterion(outputs, labels)                 # Определение потерь: разница между выходным классом и предварительно заданной меткой\n",
    "        loss.backward()                                   # Обратный проход: определение параметра weight\n",
    "        optimizer.step()                                  # Оптимизатор: обновление параметров веса в скрытых узлах\n",
    "        \n",
    "        history.append(loss.data.numpy())\n",
    "        if (i+1) % 100 == 0:                              # Логирование\n",
    "            fig = plt.figure(figsize=(16,10))\n",
    "            clear_output(True)\n",
    "            plt.plot(history,label='loss')\n",
    "            plt.xlabel('Epoch')\n",
    "            plt.ylabel('Loss')\n",
    "            plt.ylim(0, 4)\n",
    "            plt.xlim(0, 3100)\n",
    "            #plt.legend()\n",
    "            plt.show()\n",
    "            print('Epoch [%d/%d], Step [%d/%d], Loss: %.4f'\n",
    "                 %(epoch+1, num_epochs, i+1, len(train_dataset)//batch_size, loss.data[0]))"
   ]
  },
  {
   "cell_type": "markdown",
   "metadata": {},
   "source": [
    "## Тестируем модель нейросети"
   ]
  },
  {
   "cell_type": "code",
   "execution_count": 46,
   "metadata": {},
   "outputs": [
    {
     "name": "stdout",
     "output_type": "stream",
     "text": [
      "Accuracy of the network on the 10K test images: 87 %\n"
     ]
    }
   ],
   "source": [
    "correct = 0\n",
    "total = 0\n",
    "for images, labels in test_loader:\n",
    "    images = Variable(images.view(-1, 28*28))\n",
    "    outputs = net(images)\n",
    "    _, predicted = torch.max(outputs.data, 1)  # Выбор лучшего класса из выходных данных: класс с лучшим счетом\n",
    "    total += labels.size(0)                    # Увеличиваем суммарный счет\n",
    "    correct += (predicted == labels).sum()     # Увеличиваем корректный счет\n",
    " \n",
    "    \n",
    "print('Accuracy of the network on the 10K test images: %d %%' % (100 * correct / total))"
   ]
  },
  {
   "cell_type": "markdown",
   "metadata": {},
   "source": [
    "## Обучение нейросети с зашумленными данными"
   ]
  },
  {
   "cell_type": "code",
   "execution_count": 168,
   "metadata": {
    "scrolled": true
   },
   "outputs": [
    {
     "ename": "TypeError",
     "evalue": "add() received an invalid combination of arguments - got (numpy.ndarray), but expected one of:\n * (Tensor other, Number alpha)\n * (Number other, Number alpha)\n",
     "output_type": "error",
     "traceback": [
      "\u001b[1;31m---------------------------------------------------------------------------\u001b[0m",
      "\u001b[1;31mTypeError\u001b[0m                                 Traceback (most recent call last)",
      "\u001b[1;32m<ipython-input-168-421fbfd387e3>\u001b[0m in \u001b[0;36m<module>\u001b[1;34m()\u001b[0m\n\u001b[0;32m      1\u001b[0m train_loader_noised = torch.utils.data.DataLoader(\n\u001b[1;32m----> 2\u001b[1;33m     \u001b[0mdataset\u001b[0m \u001b[1;33m=\u001b[0m \u001b[0mtrain_dataset\u001b[0m\u001b[1;33m.\u001b[0m\u001b[0mtrain_data\u001b[0m \u001b[1;33m+\u001b[0m \u001b[0mrandom\u001b[0m\u001b[1;33m.\u001b[0m\u001b[0mnormal\u001b[0m\u001b[1;33m(\u001b[0m\u001b[1;36m0\u001b[0m\u001b[1;33m,\u001b[0m\u001b[1;36m0.2\u001b[0m\u001b[1;33m,\u001b[0m\u001b[1;36m28\u001b[0m\u001b[1;33m*\u001b[0m\u001b[1;36m28\u001b[0m\u001b[1;33m)\u001b[0m\u001b[1;33m,\u001b[0m\u001b[1;33m\u001b[0m\u001b[0m\n\u001b[0m\u001b[0;32m      3\u001b[0m     \u001b[0mbatch_size\u001b[0m \u001b[1;33m=\u001b[0m \u001b[0mbatch_size\u001b[0m\u001b[1;33m,\u001b[0m\u001b[1;33m\u001b[0m\u001b[0m\n\u001b[0;32m      4\u001b[0m     \u001b[0mshuffle\u001b[0m \u001b[1;33m=\u001b[0m \u001b[1;32mTrue\u001b[0m\u001b[1;33m\u001b[0m\u001b[0m\n\u001b[0;32m      5\u001b[0m )\n",
      "\u001b[1;31mTypeError\u001b[0m: add() received an invalid combination of arguments - got (numpy.ndarray), but expected one of:\n * (Tensor other, Number alpha)\n * (Number other, Number alpha)\n"
     ]
    }
   ],
   "source": [
    "train_loader_noised = torch.utils.data.DataLoader(\n",
    "    dataset = #train_dataset.train_data + random.normal(0,0.2,28*28),\n",
    "    batch_size = batch_size,\n",
    "    shuffle = True\n",
    ")"
   ]
  },
  {
   "cell_type": "code",
   "execution_count": 256,
   "metadata": {},
   "outputs": [],
   "source": [
    "def gaussian(ins, is_training = True, stddev=0.2):\n",
    "    if is_training:\n",
    "        return ins + )\n",
    "    return ins"
   ]
  },
  {
   "cell_type": "code",
   "execution_count": 260,
   "metadata": {},
   "outputs": [
    {
     "ename": "AttributeError",
     "evalue": "'DataLoader' object has no attribute 'size'",
     "output_type": "error",
     "traceback": [
      "\u001b[1;31m---------------------------------------------------------------------------\u001b[0m",
      "\u001b[1;31mAttributeError\u001b[0m                            Traceback (most recent call last)",
      "\u001b[1;32m<ipython-input-260-59852ab68f26>\u001b[0m in \u001b[0;36m<module>\u001b[1;34m()\u001b[0m\n\u001b[1;32m----> 1\u001b[1;33m \u001b[0mgaussian\u001b[0m\u001b[1;33m(\u001b[0m\u001b[0mtrain_loader\u001b[0m\u001b[1;33m)\u001b[0m\u001b[1;33m\u001b[0m\u001b[0m\n\u001b[0m",
      "\u001b[1;32m<ipython-input-256-892c2c0b614c>\u001b[0m in \u001b[0;36mgaussian\u001b[1;34m(ins, is_training, stddev)\u001b[0m\n\u001b[0;32m      1\u001b[0m \u001b[1;32mdef\u001b[0m \u001b[0mgaussian\u001b[0m\u001b[1;33m(\u001b[0m\u001b[0mins\u001b[0m\u001b[1;33m,\u001b[0m \u001b[0mis_training\u001b[0m \u001b[1;33m=\u001b[0m \u001b[1;32mTrue\u001b[0m\u001b[1;33m,\u001b[0m \u001b[0mstddev\u001b[0m\u001b[1;33m=\u001b[0m\u001b[1;36m0.2\u001b[0m\u001b[1;33m)\u001b[0m\u001b[1;33m:\u001b[0m\u001b[1;33m\u001b[0m\u001b[0m\n\u001b[0;32m      2\u001b[0m     \u001b[1;32mif\u001b[0m \u001b[0mis_training\u001b[0m\u001b[1;33m:\u001b[0m\u001b[1;33m\u001b[0m\u001b[0m\n\u001b[1;32m----> 3\u001b[1;33m         \u001b[1;32mreturn\u001b[0m \u001b[0mins\u001b[0m \u001b[1;33m+\u001b[0m \u001b[0mVariable\u001b[0m\u001b[1;33m(\u001b[0m\u001b[0mtorch\u001b[0m\u001b[1;33m.\u001b[0m\u001b[0mrandn\u001b[0m\u001b[1;33m(\u001b[0m\u001b[0mins\u001b[0m\u001b[1;33m.\u001b[0m\u001b[0msize\u001b[0m\u001b[1;33m(\u001b[0m\u001b[1;33m)\u001b[0m\u001b[1;33m)\u001b[0m \u001b[1;33m*\u001b[0m \u001b[0mstddev\u001b[0m\u001b[1;33m)\u001b[0m\u001b[1;33m\u001b[0m\u001b[0m\n\u001b[0m\u001b[0;32m      4\u001b[0m     \u001b[1;32mreturn\u001b[0m \u001b[0mins\u001b[0m\u001b[1;33m\u001b[0m\u001b[0m\n",
      "\u001b[1;31mAttributeError\u001b[0m: 'DataLoader' object has no attribute 'size'"
     ]
    }
   ],
   "source": [
    "gaussian(train_loader)"
   ]
  },
  {
   "cell_type": "code",
   "execution_count": 181,
   "metadata": {},
   "outputs": [
    {
     "data": {
      "text/plain": [
       "torch.Size([60000, 28, 28])"
      ]
     },
     "execution_count": 181,
     "metadata": {},
     "output_type": "execute_result"
    }
   ],
   "source": [
    "train_dataset.train_data.shape"
   ]
  },
  {
   "cell_type": "code",
   "execution_count": 232,
   "metadata": {
    "scrolled": true
   },
   "outputs": [
    {
     "ename": "RuntimeError",
     "evalue": "Expected object of type torch.ByteTensor but found type torch.FloatTensor for argument #3 'other'",
     "output_type": "error",
     "traceback": [
      "\u001b[1;31m---------------------------------------------------------------------------\u001b[0m",
      "\u001b[1;31mRuntimeError\u001b[0m                              Traceback (most recent call last)",
      "\u001b[1;32m<ipython-input-232-104b81aa2228>\u001b[0m in \u001b[0;36m<module>\u001b[1;34m()\u001b[0m\n\u001b[1;32m----> 1\u001b[1;33m \u001b[0mtrain_dataset\u001b[0m\u001b[1;33m.\u001b[0m\u001b[0mtrain_data\u001b[0m \u001b[1;33m+\u001b[0m \u001b[0mtorch\u001b[0m\u001b[1;33m.\u001b[0m\u001b[0mnormal\u001b[0m\u001b[1;33m(\u001b[0m\u001b[0mmean\u001b[0m\u001b[1;33m=\u001b[0m\u001b[0mtorch\u001b[0m\u001b[1;33m.\u001b[0m\u001b[0mzeros\u001b[0m\u001b[1;33m(\u001b[0m\u001b[1;33m(\u001b[0m\u001b[1;36m60000\u001b[0m\u001b[1;33m,\u001b[0m\u001b[1;36m28\u001b[0m\u001b[1;33m,\u001b[0m \u001b[1;36m28\u001b[0m\u001b[1;33m)\u001b[0m\u001b[1;33m)\u001b[0m\u001b[1;33m,\u001b[0m \u001b[0mstd\u001b[0m\u001b[1;33m=\u001b[0m\u001b[0mtorch\u001b[0m\u001b[1;33m.\u001b[0m\u001b[0mones\u001b[0m\u001b[1;33m(\u001b[0m\u001b[1;33m(\u001b[0m\u001b[1;36m60000\u001b[0m\u001b[1;33m,\u001b[0m\u001b[1;36m28\u001b[0m\u001b[1;33m,\u001b[0m \u001b[1;36m28\u001b[0m\u001b[1;33m)\u001b[0m\u001b[1;33m)\u001b[0m\u001b[1;33m)\u001b[0m\u001b[1;31m#.reshape((28,28))\u001b[0m\u001b[1;33m\u001b[0m\u001b[0m\n\u001b[0m",
      "\u001b[1;31mRuntimeError\u001b[0m: Expected object of type torch.ByteTensor but found type torch.FloatTensor for argument #3 'other'"
     ]
    }
   ],
   "source": [
    "train_dataset.train_data + torch.normal(mean=torch.zeros((60000,28, 28)), std=torch.ones((60000,28, 28)))#.reshape((28,28))"
   ]
  },
  {
   "cell_type": "code",
   "execution_count": 250,
   "metadata": {},
   "outputs": [],
   "source": [
    "name_1 = train_dataset.train_data.data.numpy()[0][0][0]"
   ]
  },
  {
   "cell_type": "code",
   "execution_count": null,
   "metadata": {},
   "outputs": [],
   "source": []
  },
  {
   "cell_type": "code",
   "execution_count": 231,
   "metadata": {
    "scrolled": true
   },
   "outputs": [
    {
     "data": {
      "text/plain": [
       "torch.Size([60000, 28, 28])"
      ]
     },
     "execution_count": 231,
     "metadata": {},
     "output_type": "execute_result"
    }
   ],
   "source": [
    "torch.normal(mean=torch.zeros((60000,28,28)), std=torch.ones((60000,28,28))).shape"
   ]
  },
  {
   "cell_type": "code",
   "execution_count": 233,
   "metadata": {},
   "outputs": [
    {
     "data": {
      "text/plain": [
       "tensor([[[0, 0, 0,  ..., 0, 0, 0],\n",
       "         [0, 0, 0,  ..., 0, 0, 0],\n",
       "         [0, 0, 0,  ..., 0, 0, 0],\n",
       "         ...,\n",
       "         [0, 0, 0,  ..., 0, 0, 0],\n",
       "         [0, 0, 0,  ..., 0, 0, 0],\n",
       "         [0, 0, 0,  ..., 0, 0, 0]],\n",
       "\n",
       "        [[0, 0, 0,  ..., 0, 0, 0],\n",
       "         [0, 0, 0,  ..., 0, 0, 0],\n",
       "         [0, 0, 0,  ..., 0, 0, 0],\n",
       "         ...,\n",
       "         [0, 0, 0,  ..., 0, 0, 0],\n",
       "         [0, 0, 0,  ..., 0, 0, 0],\n",
       "         [0, 0, 0,  ..., 0, 0, 0]],\n",
       "\n",
       "        [[0, 0, 0,  ..., 0, 0, 0],\n",
       "         [0, 0, 0,  ..., 0, 0, 0],\n",
       "         [0, 0, 0,  ..., 0, 0, 0],\n",
       "         ...,\n",
       "         [0, 0, 0,  ..., 0, 0, 0],\n",
       "         [0, 0, 0,  ..., 0, 0, 0],\n",
       "         [0, 0, 0,  ..., 0, 0, 0]],\n",
       "\n",
       "        ...,\n",
       "\n",
       "        [[0, 0, 0,  ..., 0, 0, 0],\n",
       "         [0, 0, 0,  ..., 0, 0, 0],\n",
       "         [0, 0, 0,  ..., 0, 0, 0],\n",
       "         ...,\n",
       "         [0, 0, 0,  ..., 0, 0, 0],\n",
       "         [0, 0, 0,  ..., 0, 0, 0],\n",
       "         [0, 0, 0,  ..., 0, 0, 0]],\n",
       "\n",
       "        [[0, 0, 0,  ..., 0, 0, 0],\n",
       "         [0, 0, 0,  ..., 0, 0, 0],\n",
       "         [0, 0, 0,  ..., 0, 0, 0],\n",
       "         ...,\n",
       "         [0, 0, 0,  ..., 0, 0, 0],\n",
       "         [0, 0, 0,  ..., 0, 0, 0],\n",
       "         [0, 0, 0,  ..., 0, 0, 0]],\n",
       "\n",
       "        [[0, 0, 0,  ..., 0, 0, 0],\n",
       "         [0, 0, 0,  ..., 0, 0, 0],\n",
       "         [0, 0, 0,  ..., 0, 0, 0],\n",
       "         ...,\n",
       "         [0, 0, 0,  ..., 0, 0, 0],\n",
       "         [0, 0, 0,  ..., 0, 0, 0],\n",
       "         [0, 0, 0,  ..., 0, 0, 0]]], dtype=torch.uint8)"
      ]
     },
     "execution_count": 233,
     "metadata": {},
     "output_type": "execute_result"
    }
   ],
   "source": [
    "train_dataset.train_data"
   ]
  },
  {
   "cell_type": "code",
   "execution_count": 217,
   "metadata": {},
   "outputs": [
    {
     "data": {
      "text/plain": [
       "tensor([[ 0.2645, -0.3334, -0.0159,  0.3377, -0.6424,  0.0952,  0.0371, -0.0590,\n",
       "         -0.3847, -0.5277, -0.4072,  0.8680, -0.1377, -0.2995, -2.6281, -1.6996,\n",
       "          0.1529,  0.0899,  0.4699,  0.2505,  0.5827, -1.6777,  0.3672,  0.8088,\n",
       "          0.3781,  0.9979,  0.2228, -0.7780],\n",
       "        [-1.3693,  1.5404,  0.8169, -0.6458,  0.9310,  1.3199,  0.7781,  1.0941,\n",
       "          0.5717,  0.5832, -0.6797,  0.7132,  0.2517,  0.4420,  0.1882,  0.4198,\n",
       "          0.0510, -2.9576,  2.2042,  1.0170,  2.0938, -0.4068, -0.2500,  0.5948,\n",
       "          0.6742,  0.0375, -0.0525,  2.5194],\n",
       "        [ 0.1560, -0.2067, -2.0890, -0.3579, -0.0281,  0.6212,  0.0349, -1.2263,\n",
       "         -1.0949,  1.1350,  0.4531,  0.3236, -1.8557,  0.0103,  0.6885, -0.1458,\n",
       "          0.2015,  0.0982, -0.1832,  1.8007,  0.8157, -1.9588, -0.8769, -0.1745,\n",
       "          0.0882, -0.8293, -0.6372,  0.0486],\n",
       "        [ 0.6706,  0.1432,  0.5732, -0.9167,  1.0586, -0.9610,  0.0757, -2.1303,\n",
       "          0.8981, -0.2204,  0.4447,  2.2476, -2.3581, -1.9521, -0.6865,  0.1137,\n",
       "          0.8550, -2.2211, -0.8889,  0.1369, -1.4997,  0.0346, -0.3205,  0.5276,\n",
       "          2.1800,  0.0148, -0.7465, -1.4170],\n",
       "        [ 2.1645, -0.3653,  0.3910,  0.5175, -0.1107,  0.1601,  0.9943, -0.4553,\n",
       "         -0.5100,  0.1008,  0.3310,  0.7164, -0.9729, -1.6180,  1.1051,  1.2500,\n",
       "         -1.1085,  1.7583,  0.6915, -0.9809, -2.4081, -0.5356,  1.7746,  2.3627,\n",
       "         -0.2649, -0.7116,  1.0238,  1.6794],\n",
       "        [ 0.7078,  3.1232, -0.9778,  1.2894,  1.0553,  0.5537,  0.2375, -0.1457,\n",
       "          1.1886,  0.7009, -1.9966,  1.0413,  0.1718,  1.0430,  0.9003,  1.6156,\n",
       "         -0.1751,  0.8040,  0.9546,  1.4431,  0.0913, -3.1391,  0.6214,  0.1027,\n",
       "         -0.6405, -1.0495, -0.1434, -1.5656],\n",
       "        [-0.6427, -0.0931,  0.2482,  0.3613,  1.1552, -0.8728,  2.0891,  0.1366,\n",
       "         -1.7528, -0.0311, -0.3173,  1.3055,  0.6238, -0.7366, -1.3489,  1.1860,\n",
       "         -0.4700,  0.1430,  0.8086,  0.2851, -0.1196, -0.1972,  1.3080,  0.4310,\n",
       "         -1.7811, -1.2757,  1.0446,  0.4426],\n",
       "        [ 0.4644,  1.8333, -0.7393, -0.8262, -0.9305, -0.8868,  0.9186,  0.6029,\n",
       "         -0.7884, -0.1916, -0.3992,  0.4831, -0.2210, -0.0770, -0.2960,  0.2376,\n",
       "         -0.4912,  1.2081, -1.2170, -1.3696,  1.1408, -1.4846, -0.6547, -0.4068,\n",
       "         -0.3261,  1.7362,  0.3816, -0.6563],\n",
       "        [-0.8935,  0.1175,  0.2512, -0.7716, -1.3771,  0.0138,  1.4566,  0.1462,\n",
       "          0.7015,  0.2456, -0.2176,  0.5648, -1.4047,  1.2313, -0.0788,  0.5171,\n",
       "          0.7915,  0.4880, -2.0529, -0.0950, -0.3916,  0.1314,  1.3719, -0.7741,\n",
       "         -0.7007, -0.9556,  0.5329,  0.4389],\n",
       "        [ 0.6091, -0.8275, -1.4808,  0.0075,  1.8886,  0.9238,  0.3456, -1.6159,\n",
       "          0.0259, -0.1084,  0.2611, -0.9484, -0.4592,  0.7670, -0.9134, -1.1666,\n",
       "         -1.2104,  0.3613,  1.3393,  0.4775, -1.3435, -0.8002, -0.0622, -0.7143,\n",
       "         -0.1404,  1.6154,  0.0360, -0.3893],\n",
       "        [ 0.0514,  0.1265, -0.0447, -0.7587, -0.0289,  0.5481,  0.4536,  0.0620,\n",
       "          2.0221, -1.3778, -0.3726,  0.8878, -1.8651,  0.5142, -1.4266,  1.2861,\n",
       "          1.6411,  0.0321,  0.4736, -0.5405,  1.0726, -1.7588,  1.0797,  0.9486,\n",
       "         -0.5160, -0.7061,  1.3767, -2.9038],\n",
       "        [ 1.6465,  0.4491, -0.3953,  0.1923, -0.1878, -0.4211,  2.6768,  1.2372,\n",
       "         -0.4612,  0.9633, -1.3223,  0.5795, -0.2992,  0.3516, -2.6863, -0.3169,\n",
       "         -0.8520,  1.8349,  0.2887,  1.5626,  1.1453, -0.3184, -1.1020,  0.1789,\n",
       "         -0.8973, -0.9293,  0.0488, -1.4018],\n",
       "        [-0.7904, -0.1924, -0.0105,  1.2762, -0.1127, -0.4274, -0.8202,  0.8017,\n",
       "         -0.7950, -0.2381,  0.6488, -0.0714, -1.0278, -0.3166, -0.1438,  0.7406,\n",
       "         -2.2541, -0.0520, -0.4986, -0.8418,  1.1935, -1.6790,  0.1554, -1.2671,\n",
       "         -2.4058,  0.3043, -1.4619, -0.9367],\n",
       "        [ 0.6014,  0.3514,  0.0231,  1.3683, -0.9303, -0.6639,  0.8503, -0.5462,\n",
       "         -0.8203,  1.5362,  0.5124, -0.2749,  0.7114, -0.2187, -0.1058,  0.8534,\n",
       "          0.6614, -1.5064,  0.5012, -1.0261, -0.3690,  0.7737, -0.2704, -0.1605,\n",
       "         -1.6944,  0.7936, -1.4323,  1.1593],\n",
       "        [ 0.5145, -0.6900, -0.2232, -0.8315, -0.1433, -0.3930, -0.4795,  1.2253,\n",
       "          0.9451,  0.4831,  0.6052, -0.2028,  0.5985,  0.0523, -0.4304,  0.0319,\n",
       "          0.3523, -2.0692,  1.9181, -0.9041,  0.5430,  0.0687, -0.9409, -0.4810,\n",
       "          0.2342, -0.6878, -1.2639,  0.5748],\n",
       "        [-1.5874, -1.4220, -0.8291,  0.2503, -1.5618,  0.0448, -0.9037,  0.0120,\n",
       "          1.0135, -0.1204, -0.9290, -1.4829,  0.8317, -0.5477,  1.2066, -0.2010,\n",
       "         -0.3799,  0.5741,  0.6438, -1.6456,  0.1452, -0.0621,  0.0718, -0.2740,\n",
       "         -0.4452,  2.3215, -1.4832,  0.2049],\n",
       "        [ 0.0925, -1.7856,  2.0730, -0.7777, -2.1791,  0.9139, -1.7542, -0.3395,\n",
       "          0.7456,  1.0678, -0.3542, -0.2905, -0.6520, -1.5634, -0.7900,  0.6686,\n",
       "          0.2696, -1.6989, -0.6479, -2.7114,  0.6401,  0.4224,  1.3494,  0.4368,\n",
       "          0.3996,  2.3545, -0.8834, -0.0140],\n",
       "        [ 0.4003, -0.7993,  0.7024, -0.9887, -1.7000,  1.4856,  0.7920, -0.5846,\n",
       "         -2.1885, -0.1838, -0.1657, -0.4130,  0.0010,  1.8900,  1.4586,  0.5047,\n",
       "          0.3346, -0.0958, -0.7488,  1.0107,  1.2365, -0.3870, -1.3167,  1.2557,\n",
       "          0.9678, -1.4800,  0.7293, -0.7973],\n",
       "        [ 0.7079,  0.3980,  0.7293,  0.6236, -1.4211,  0.1831,  0.1955, -0.6850,\n",
       "          0.2219,  0.4332,  0.0739,  0.6345,  0.6414,  0.6783,  0.9091, -0.9692,\n",
       "          0.0445, -1.0411, -0.2725,  1.1310,  0.1162,  0.3318, -0.3594, -1.1882,\n",
       "         -1.3245,  1.4210,  1.6418,  1.6549],\n",
       "        [-2.1898,  0.0114, -1.8555,  0.6819,  0.3175,  0.8585, -1.4150, -0.2337,\n",
       "         -0.8887,  0.7813,  0.6480, -2.3409,  0.3777, -0.4661,  1.8269, -1.4697,\n",
       "          0.7072, -0.1740, -0.2596,  0.1439,  1.4900, -0.4114,  0.1010,  0.1325,\n",
       "          1.0294,  0.4701, -1.6049,  1.8771],\n",
       "        [ 0.3272,  2.1950,  0.0726,  1.0092, -0.9200,  0.9616,  1.4160, -0.2300,\n",
       "         -0.1669,  0.4904, -0.1192,  1.0713,  0.0693, -1.1143,  0.2247,  0.7857,\n",
       "         -0.4853,  0.8976, -0.5538,  1.7220,  2.0895, -0.7138,  0.2276,  0.1061,\n",
       "         -0.1219, -0.8672,  2.2908, -0.1006],\n",
       "        [-0.9848,  0.7454,  1.0805, -0.2985,  0.5817,  0.8113, -0.7208,  0.0780,\n",
       "         -0.3429, -0.2269,  0.0173,  0.9544, -1.3595,  0.9590,  0.2951,  0.2779,\n",
       "          1.7171, -0.4903,  0.1772, -0.4659, -0.4446,  2.2844, -0.6340, -1.1260,\n",
       "         -1.5256,  0.8845,  0.1594, -0.4564],\n",
       "        [-0.0150,  1.4436, -1.1586,  0.2742,  1.1387, -0.5518, -1.3340,  1.6861,\n",
       "          0.5306, -1.2198, -0.4573,  1.5900,  0.5254,  1.0059,  1.6857,  1.1775,\n",
       "         -0.0909,  0.6540, -0.5832,  1.5374,  1.3219, -0.8138,  0.3394,  1.3381,\n",
       "          0.2394,  1.5109, -0.0813, -1.7465],\n",
       "        [ 0.4052, -0.1472,  1.9742, -0.3312,  0.0877, -0.0963,  0.6226, -1.1910,\n",
       "          0.4665,  0.0169, -1.6233,  1.6257,  1.8980,  1.0796,  0.7547,  0.0580,\n",
       "          2.6837,  0.3126,  0.3107,  0.2711,  0.4205,  1.3278,  0.4228, -2.1695,\n",
       "         -0.2405,  2.5102,  0.0034, -0.5456],\n",
       "        [-0.2602, -1.5785,  1.4562, -0.1014,  0.4636,  0.5145,  0.3033, -0.2713,\n",
       "         -0.2779,  0.8157,  0.3205, -0.5062, -0.7888,  0.5604,  2.1227,  0.3296,\n",
       "          0.0352, -0.3728, -0.1174,  0.0259, -0.0389,  0.3416,  1.3760, -0.3153,\n",
       "          1.0855,  1.4912,  0.7355,  1.8355],\n",
       "        [-0.4533, -0.2061,  0.4716,  0.0852, -0.6690,  0.0148,  0.9236,  0.7668,\n",
       "          1.5307,  0.7187, -0.6075, -0.0896, -0.1397,  0.1397,  0.3922,  0.5451,\n",
       "          0.4919, -0.7276,  0.1731,  0.3213,  0.2015, -0.8200, -0.5677, -0.3018,\n",
       "          1.6106, -0.9343, -1.8931, -0.2995],\n",
       "        [-0.3869, -2.2690,  0.4171, -0.0335, -0.8430,  1.4901,  1.3441, -1.7074,\n",
       "          0.5631,  1.2272, -1.2551,  0.4388,  0.5124, -2.3580, -0.6559,  0.4871,\n",
       "         -0.2379,  1.2682, -0.1281,  0.6882, -0.4952, -1.6033, -0.1830,  1.2429,\n",
       "          0.8996,  1.7362,  0.1507,  0.0488],\n",
       "        [-0.2933,  1.0398, -0.0609,  0.9010,  1.7301,  0.5697, -0.4810, -1.3684,\n",
       "          0.7072, -0.3486, -0.2508,  2.2279,  0.4225, -0.6176, -0.9386,  0.3944,\n",
       "         -0.2360,  1.2263,  0.6230,  0.2487, -0.0620, -0.0280,  0.4378,  1.0684,\n",
       "          0.8508, -1.9032,  0.4230, -1.2558]])"
      ]
     },
     "execution_count": 217,
     "metadata": {},
     "output_type": "execute_result"
    }
   ],
   "source": [
    "torch.normal(mean=torch.zeros(28*28), std=torch.ones(28*28)).reshape((28,28))"
   ]
  },
  {
   "cell_type": "code",
   "execution_count": 214,
   "metadata": {},
   "outputs": [
    {
     "ename": "RuntimeError",
     "evalue": "normal is not implemented for type torch.LongTensor",
     "output_type": "error",
     "traceback": [
      "\u001b[1;31m---------------------------------------------------------------------------\u001b[0m",
      "\u001b[1;31mRuntimeError\u001b[0m                              Traceback (most recent call last)",
      "\u001b[1;32m<ipython-input-214-d55bad44dc01>\u001b[0m in \u001b[0;36m<module>\u001b[1;34m()\u001b[0m\n\u001b[1;32m----> 1\u001b[1;33m \u001b[0mtorch\u001b[0m\u001b[1;33m.\u001b[0m\u001b[0mnormal\u001b[0m\u001b[1;33m(\u001b[0m\u001b[0mmean\u001b[0m\u001b[1;33m=\u001b[0m\u001b[0mtorch\u001b[0m\u001b[1;33m.\u001b[0m\u001b[0mtensor\u001b[0m\u001b[1;33m(\u001b[0m\u001b[1;33m[\u001b[0m\u001b[1;36m0\u001b[0m\u001b[1;33m,\u001b[0m\u001b[1;36m0\u001b[0m\u001b[1;33m]\u001b[0m\u001b[1;33m)\u001b[0m\u001b[1;33m,\u001b[0m \u001b[0mstd\u001b[0m\u001b[1;33m=\u001b[0m\u001b[0mtorch\u001b[0m\u001b[1;33m.\u001b[0m\u001b[0mtensor\u001b[0m\u001b[1;33m(\u001b[0m\u001b[1;33m[\u001b[0m\u001b[1;36m1\u001b[0m\u001b[1;33m,\u001b[0m\u001b[1;36m1\u001b[0m\u001b[1;33m]\u001b[0m\u001b[1;33m)\u001b[0m\u001b[1;33m)\u001b[0m\u001b[1;33m\u001b[0m\u001b[0m\n\u001b[0m",
      "\u001b[1;31mRuntimeError\u001b[0m: normal is not implemented for type torch.LongTensor"
     ]
    }
   ],
   "source": [
    "torch.normal(mean=torch.tensor([0,0]), std=torch.tensor([1,1]))"
   ]
  },
  {
   "cell_type": "code",
   "execution_count": 209,
   "metadata": {},
   "outputs": [
    {
     "data": {
      "text/plain": [
       "tensor([[1., 1., 1., 1., 1., 1., 1., 1., 1., 1., 1., 1., 1., 1., 1., 1., 1., 1.,\n",
       "         1., 1., 1., 1., 1., 1., 1., 1., 1., 1.]])"
      ]
     },
     "execution_count": 209,
     "metadata": {},
     "output_type": "execute_result"
    }
   ],
   "source": [
    "torch.ones((1, 28))"
   ]
  },
  {
   "cell_type": "code",
   "execution_count": null,
   "metadata": {},
   "outputs": [],
   "source": [
    "torch.normal(mean=torch.zeros(28), std=torch.arange(1, 0, -0.1))"
   ]
  }
 ],
 "metadata": {
  "kernelspec": {
   "display_name": "Python 3",
   "language": "python",
   "name": "python3"
  },
  "language_info": {
   "codemirror_mode": {
    "name": "ipython",
    "version": 3
   },
   "file_extension": ".py",
   "mimetype": "text/x-python",
   "name": "python",
   "nbconvert_exporter": "python",
   "pygments_lexer": "ipython3",
   "version": "3.6.4"
  }
 },
 "nbformat": 4,
 "nbformat_minor": 2
}
